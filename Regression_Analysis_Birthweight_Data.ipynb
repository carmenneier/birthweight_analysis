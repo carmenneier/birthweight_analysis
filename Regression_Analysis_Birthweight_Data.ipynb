{
 "cells": [
  {
   "cell_type": "code",
   "execution_count": 1,
   "id": "cb72de1b",
   "metadata": {},
   "outputs": [
    {
     "name": "stdout",
     "output_type": "stream",
     "text": [
      "<class 'pandas.core.frame.DataFrame'>\n",
      "RangeIndex: 196 entries, 0 to 195\n",
      "Data columns (total 18 columns):\n",
      " #   Column  Non-Null Count  Dtype  \n",
      "---  ------  --------------  -----  \n",
      " 0   mage    196 non-null    int64  \n",
      " 1   meduc   193 non-null    float64\n",
      " 2   monpre  196 non-null    int64  \n",
      " 3   npvis   193 non-null    float64\n",
      " 4   fage    196 non-null    int64  \n",
      " 5   feduc   189 non-null    float64\n",
      " 6   omaps   196 non-null    int64  \n",
      " 7   fmaps   196 non-null    int64  \n",
      " 8   cigs    196 non-null    int64  \n",
      " 9   drink   196 non-null    int64  \n",
      " 10  male    196 non-null    int64  \n",
      " 11  mwhte   196 non-null    int64  \n",
      " 12  mblck   196 non-null    int64  \n",
      " 13  moth    196 non-null    int64  \n",
      " 14  fwhte   196 non-null    int64  \n",
      " 15  fblck   196 non-null    int64  \n",
      " 16  foth    196 non-null    int64  \n",
      " 17  bwght   196 non-null    int64  \n",
      "dtypes: float64(3), int64(15)\n",
      "memory usage: 27.7 KB\n"
     ]
    }
   ],
   "source": [
    "#importing libraries\n",
    "import numpy as np\n",
    "import pandas as pd\n",
    "import matplotlib.pyplot as plt\n",
    "import seaborn as sns\n",
    "import statsmodels.formula.api as smf\n",
    "\n",
    "#importing file\n",
    "file = \"./birthweight_low.xlsx\"\n",
    "\n",
    "birth = pd.read_excel(io = file)\n",
    "\n",
    "#initial data check\n",
    "birth.head(n=5)\n",
    "birth.info()"
   ]
  },
  {
   "cell_type": "markdown",
   "id": "4e7199ce",
   "metadata": {},
   "source": [
    "Variables omaps and fmaps will not be part of the analysis since their results are not related to birthweight. Omaps and Fmaps are performed after birth. "
   ]
  },
  {
   "cell_type": "code",
   "execution_count": 4,
   "id": "49b6cdff",
   "metadata": {},
   "outputs": [
    {
     "name": "stdout",
     "output_type": "stream",
     "text": [
      "                            OLS Regression Results                            \n",
      "==============================================================================\n",
      "Dep. Variable:                  bwght   R-squared:                       0.737\n",
      "Model:                            OLS   Adj. R-squared:                  0.717\n",
      "Method:                 Least Squares   F-statistic:                     37.07\n",
      "Date:                Wed, 24 Nov 2021   Prob (F-statistic):           4.70e-43\n",
      "Time:                        14:42:45   Log-Likelihood:                -1335.6\n",
      "No. Observations:                 186   AIC:                             2699.\n",
      "Df Residuals:                     172   BIC:                             2744.\n",
      "Df Model:                          13                                         \n",
      "Covariance Type:            nonrobust                                         \n",
      "==============================================================================\n",
      "                 coef    std err          t      P>|t|      [0.025      0.975]\n",
      "------------------------------------------------------------------------------\n",
      "Intercept   4029.4709    314.737     12.803      0.000    3408.226    4650.716\n",
      "mage         -11.1021      3.113     -3.566      0.000     -17.246      -4.958\n",
      "meduc         27.9564     16.307      1.714      0.088      -4.230      60.143\n",
      "monpre        23.4443     23.035      1.018      0.310     -22.024      68.912\n",
      "npvis          1.9801      6.238      0.317      0.751     -10.333      14.293\n",
      "fage          -2.7337      3.416     -0.800      0.425      -9.476       4.008\n",
      "feduc         18.4050     13.673      1.346      0.180      -8.583      45.392\n",
      "cigs         -34.4794      4.474     -7.707      0.000     -43.310     -25.649\n",
      "drink       -111.2210      9.605    -11.579      0.000    -130.181     -92.261\n",
      "male          28.8352     50.166      0.575      0.566     -70.185     127.856\n",
      "mwhte        -32.6928    117.717     -0.278      0.782    -265.048     199.663\n",
      "mblck       -312.7063    176.380     -1.773      0.078    -660.854      35.441\n",
      "fwhte        170.0109    117.253      1.450      0.149     -61.430     401.452\n",
      "fblck        458.7378    192.879      2.378      0.018      78.022     839.453\n",
      "==============================================================================\n",
      "Omnibus:                        2.228   Durbin-Watson:                   1.432\n",
      "Prob(Omnibus):                  0.328   Jarque-Bera (JB):                1.838\n",
      "Skew:                           0.220   Prob(JB):                        0.399\n",
      "Kurtosis:                       3.207   Cond. No.                         857.\n",
      "==============================================================================\n",
      "\n",
      "Notes:\n",
      "[1] Standard Errors assume that the covariance matrix of the errors is correctly specified.\n"
     ]
    }
   ],
   "source": [
    "#building a base model\n",
    "\n",
    "lm_practice = smf.ols(formula = \"\"\"  bwght ~ mage +\n",
    "                                            meduc +\n",
    "                                            monpre +\n",
    "                                            npvis +\n",
    "                                            fage +\n",
    "                                            feduc +\n",
    "                                            cigs +\n",
    "                                            drink +\n",
    "                                            male +\n",
    "                                            mwhte +\n",
    "                                            mblck +\n",
    "                                            fwhte +\n",
    "                                            fblck \"\"\",\n",
    "                    data = birth)\n",
    "\n",
    "results = lm_practice.fit()\n",
    "\n",
    "print(results.summary())"
   ]
  },
  {
   "cell_type": "code",
   "execution_count": 5,
   "id": "07fcfc8e",
   "metadata": {},
   "outputs": [
    {
     "data": {
      "image/png": "[encoded data removed]",
      "text/plain": [
       "<Figure size 432x288 with 1 Axes>"
      ]
     },
     "metadata": {
      "needs_background": "light"
     },
     "output_type": "display_data"
    },
    {
     "data": {
      "image/png": "[encoded data removed]",
      "text/plain": [
       "<Figure size 432x288 with 1 Axes>"
      ]
     },
     "metadata": {
      "needs_background": "light"
     },
     "output_type": "display_data"
    }
   ],
   "source": [
    "#developing a histogram of target variable, birthweight\n",
    "sns.histplot(x='bwght',\n",
    "            data = birth,\n",
    "            kde = True)\n",
    "\n",
    "plt.title(\"Distribution of Birthweight\")\n",
    "plt.show()\n",
    "\n",
    "#comparing with a histogram of log of birthweight to see if it improves the skewness\n",
    "birth['log_bwght'] = np.log(birth['bwght'])\n",
    "\n",
    "sns.histplot(x='log_bwght',\n",
    "            data = birth,\n",
    "            kde = True)\n",
    "\n",
    "plt.title(\"Distribution of log Birthweight\")\n",
    "plt.show()"
   ]
  },
  {
   "cell_type": "markdown",
   "id": "4322fa18",
   "metadata": {},
   "source": [
    "log of Birthweight shows more skewness than original Birthweight, therefor log will not be used further in the analysis. "
   ]
  },
  {
   "cell_type": "code",
   "execution_count": 7,
   "id": "b0c1e477",
   "metadata": {},
   "outputs": [
    {
     "data": {
      "image/png": "[encoded data removed]",
      "text/plain": [
       "<Figure size 432x288 with 1 Axes>"
      ]
     },
     "metadata": {
      "needs_background": "light"
     },
     "output_type": "display_data"
    },
    {
     "data": {
      "image/png": "[encoded data removed]",
      "text/plain": [
       "<Figure size 432x288 with 1 Axes>"
      ]
     },
     "metadata": {
      "needs_background": "light"
     },
     "output_type": "display_data"
    },
    {
     "data": {
      "image/png": "[encoded data removed]",
      "text/plain": [
       "<Figure size 432x288 with 1 Axes>"
      ]
     },
     "metadata": {
      "needs_background": "light"
     },
     "output_type": "display_data"
    }
   ],
   "source": [
    "#checking for missing values\n",
    "birth.isnull().sum(axis=0)\n",
    "\n",
    "#handling the missing values\n",
    "for col in birth:\n",
    "    if birth[col].isnull().astype(float).sum() > 0:\n",
    "        birth['m_'+col] = birth[col].isnull().astype(int)\n",
    "        \n",
    "birth[['m_meduc', 'm_npvis', 'm_feduc']].sum(axis=0)\n",
    "\n",
    "#creating a dropped dataset to visualize meduc, npvis & feduc\n",
    "birth_dropped = birth.dropna()\n",
    "\n",
    "sns.histplot(x='meduc',\n",
    "            data = birth_dropped,\n",
    "            kde = True)\n",
    "\n",
    "plt.title(\"Distribution of Mother's Education\")\n",
    "plt.show()\n",
    "\n",
    "sns.histplot(x='npvis',\n",
    "            data = birth_dropped,\n",
    "            kde = True)\n",
    "\n",
    "plt.title(\"Number of Prenatal Visits\")\n",
    "plt.show()\n",
    "\n",
    "sns.histplot(x='feduc',\n",
    "            data = birth_dropped,\n",
    "            kde = True)\n",
    "\n",
    "plt.title(\"Distribution of Father's Education\")\n",
    "plt.show()\n",
    "\n",
    "\n",
    "\n"
   ]
  },
  {
   "cell_type": "markdown",
   "id": "02f11d2c",
   "metadata": {},
   "source": [
    "Based on the visualizations the most appropriate imputations for the three values are to impute the missing values with the median. \n",
    "Due to the skewness of all three variables, the median is less affected than the mean by the few higher or lower points in the data. \n"
   ]
  },
  {
   "cell_type": "code",
   "execution_count": 8,
   "id": "5092880c",
   "metadata": {},
   "outputs": [],
   "source": [
    "#imputing the missing values for meduc\n",
    "\n",
    "fill_meduc = birth['meduc'].median()\n",
    "birth['meduc'] = birth['meduc'].fillna(fill_meduc)\n",
    "\n",
    "#imputing the missing values for feduc\n",
    "\n",
    "fill_feduc = birth['feduc'].median()\n",
    "birth['feduc'] = birth['feduc'].fillna(fill_meduc)\n",
    "\n",
    "#imputing the missing values for npvis\n",
    "\n",
    "fill_npvis = birth['npvis'].median()\n",
    "birth['npvis'] = birth['npvis'].fillna(fill_npvis)\n",
    "\n",
    "#check all missing values are filled\n",
    "birth.isnull().sum(axis=0)\n",
    "\n",
    "#dropping missing value columns\n",
    "birth = birth.drop(\"m_meduc\", axis = 1)\n",
    "birth = birth.drop(\"m_npvis\", axis = 1)\n",
    "birth = birth.drop(\"m_feduc\", axis = 1)"
   ]
  },
  {
   "cell_type": "code",
   "execution_count": 9,
   "id": "5b1391cd",
   "metadata": {},
   "outputs": [
    {
     "data": {
      "text/plain": [
       "drink       -0.743\n",
       "cigs        -0.572\n",
       "mage        -0.464\n",
       "fage        -0.396\n",
       "mwhte       -0.114\n",
       "foth        -0.078\n",
       "monpre      -0.052\n",
       "fwhte       -0.041\n",
       "moth        -0.022\n",
       "npvis        0.062\n",
       "meduc        0.094\n",
       "male         0.115\n",
       "fblck        0.118\n",
       "mblck        0.126\n",
       "feduc        0.131\n",
       "omaps        0.250\n",
       "fmaps        0.252\n",
       "log_bwght    0.969\n",
       "bwght        1.000\n",
       "Name: bwght, dtype: float64"
      ]
     },
     "execution_count": 9,
     "metadata": {},
     "output_type": "execute_result"
    }
   ],
   "source": [
    "#checking correlation of variables with low birthweight\n",
    "\n",
    "birth_corr = birth.corr(method = \"pearson\")\n",
    "\n",
    "birth_corr[\"bwght\"].round(3).sort_values(ascending = True)"
   ]
  },
  {
   "cell_type": "code",
   "execution_count": 10,
   "id": "722c760e",
   "metadata": {},
   "outputs": [
    {
     "data": {
      "text/plain": [
       "Text(0, 0.5, 'Birthweight')"
      ]
     },
     "execution_count": 10,
     "metadata": {},
     "output_type": "execute_result"
    },
    {
     "data": {
      "image/png": "[encoded data removed]",
      "text/plain": [
       "<Figure size 720x576 with 1 Axes>"
      ]
     },
     "metadata": {
      "needs_background": "light"
     },
     "output_type": "display_data"
    },
    {
     "data": {
      "image/png": "[encoded data removed]",
      "text/plain": [
       "<Figure size 720x576 with 1 Axes>"
      ]
     },
     "metadata": {
      "needs_background": "light"
     },
     "output_type": "display_data"
    }
   ],
   "source": [
    "#making a scatterplot for mage and fage to analyse relationship to birthweight\n",
    "\n",
    "#scatterplot for variable mage\n",
    "fig,ax = plt.subplots(figsize = (10,8))\n",
    "plt.subplot(2,2,1)\n",
    "sns.scatterplot (x= birth['mage'],\n",
    "                y = birth['bwght'],\n",
    "                color = 'g')\n",
    "\n",
    "plt.xlabel(xlabel = \"Mother's Age\")\n",
    "plt.ylabel(ylabel = 'Birthweight')\n",
    "\n",
    "#scatterplot for variable fage\n",
    "fig,ax = plt.subplots(figsize = (10,8))\n",
    "plt.subplot(3,2,1)\n",
    "sns.scatterplot (x= birth['fage'],\n",
    "                y = birth['bwght'],\n",
    "                color = 'g')\n",
    "\n",
    "plt.xlabel(xlabel = \"Father's Age\")\n",
    "plt.ylabel(ylabel = 'Birthweight')"
   ]
  },
  {
   "cell_type": "markdown",
   "id": "dd4f3d65",
   "metadata": {},
   "source": [
    "Mother's Age has a stronger negative correlation than Father's Age, however both can be considered negatively correlated to \n",
    "birthweight. The older the parents are (especially the mother), the lower the birthweight of their baby. \n",
    "\n",
    "Focusing on mothers above 38 could possibly lead to higher significance in birth weight. "
   ]
  },
  {
   "cell_type": "code",
   "execution_count": 11,
   "id": "3272d6d7",
   "metadata": {
    "cell_style": "center"
   },
   "outputs": [
    {
     "data": {
      "image/png": "[encoded data removed]",
      "text/plain": [
       "<Figure size 504x360 with 1 Axes>"
      ]
     },
     "metadata": {
      "needs_background": "light"
     },
     "output_type": "display_data"
    },
    {
     "data": {
      "image/png": "[encoded data removed]",
      "text/plain": [
       "<Figure size 504x360 with 1 Axes>"
      ]
     },
     "metadata": {
      "needs_background": "light"
     },
     "output_type": "display_data"
    },
    {
     "data": {
      "image/png": "[encoded data removed]",
      "text/plain": [
       "<Figure size 504x360 with 1 Axes>"
      ]
     },
     "metadata": {
      "needs_background": "light"
     },
     "output_type": "display_data"
    },
    {
     "data": {
      "image/png": "[encoded data removed]",
      "text/plain": [
       "<Figure size 504x360 with 1 Axes>"
      ]
     },
     "metadata": {
      "needs_background": "light"
     },
     "output_type": "display_data"
    },
    {
     "data": {
      "image/png": "[encoded data removed]",
      "text/plain": [
       "<Figure size 504x360 with 1 Axes>"
      ]
     },
     "metadata": {
      "needs_background": "light"
     },
     "output_type": "display_data"
    },
    {
     "data": {
      "image/png": "[encoded data removed]",
      "text/plain": [
       "<Figure size 504x360 with 1 Axes>"
      ]
     },
     "metadata": {
      "needs_background": "light"
     },
     "output_type": "display_data"
    }
   ],
   "source": [
    "#making boxplot to analyze relationship of other interval variables and birthweight\n",
    "\n",
    "#boxplot for meduc\n",
    "fig, ax = plt.subplots(figsize = (7, 5))\n",
    "\n",
    "sns.boxplot(x = 'meduc',\n",
    "           y = 'bwght',\n",
    "           data = birth)\n",
    "\n",
    "plt.xlabel(xlabel = \"Mother's Education\")\n",
    "plt.ylabel(ylabel = 'bwght')\n",
    "\n",
    "plt.tight_layout()\n",
    "plt.show()\n",
    "\n",
    "#boxplot for monpre\n",
    "fig, ax = plt.subplots(figsize = (7, 5))\n",
    "\n",
    "sns.boxplot(x = 'monpre',\n",
    "           y = 'bwght',\n",
    "           data = birth)\n",
    "\n",
    "plt.xlabel(xlabel = \"Month Prenatal began\")\n",
    "plt.ylabel(ylabel = 'bwght')\n",
    "\n",
    "plt.tight_layout()\n",
    "plt.show()\n",
    "\n",
    "#boxplot for npvis\n",
    "fig, ax = plt.subplots(figsize = (7, 5))\n",
    "\n",
    "sns.boxplot(x = 'npvis',\n",
    "           y = 'bwght',\n",
    "           data = birth)\n",
    "\n",
    "plt.xlabel(xlabel = \"Number of Prenatal Visits\")\n",
    "plt.ylabel(ylabel = 'bwght')\n",
    "\n",
    "plt.tight_layout()\n",
    "plt.show()\n",
    "\n",
    "\n",
    "#boxplot for feduc\n",
    "fig, ax = plt.subplots(figsize = (7, 5))\n",
    "\n",
    "sns.boxplot(x = 'feduc',\n",
    "           y = 'bwght',\n",
    "           data = birth)\n",
    "\n",
    "plt.xlabel(xlabel = \"Father's Education\")\n",
    "plt.ylabel(ylabel = 'bwght')\n",
    "\n",
    "plt.tight_layout()\n",
    "plt.show()\n",
    "\n",
    "#boxplot for cigs\n",
    "fig, ax = plt.subplots(figsize = (7, 5))\n",
    "\n",
    "sns.boxplot(x = 'cigs',\n",
    "           y = 'bwght',\n",
    "           data = birth)\n",
    "\n",
    "plt.xlabel(xlabel = \"Cigarettes\")\n",
    "plt.ylabel(ylabel = 'bwght')\n",
    "\n",
    "plt.tight_layout()\n",
    "plt.show()\n",
    "\n",
    "#boxplot for drink\n",
    "fig, ax = plt.subplots(figsize = (7, 5))\n",
    "\n",
    "sns.boxplot(x = 'drink',\n",
    "           y = 'bwght',\n",
    "           data = birth)\n",
    "\n",
    "plt.xlabel(xlabel = \"Drinks\")\n",
    "plt.ylabel(ylabel = 'bwght')\n",
    "\n",
    "plt.tight_layout()\n",
    "plt.show()\n"
   ]
  },
  {
   "cell_type": "code",
   "execution_count": 12,
   "id": "d5bc605e",
   "metadata": {},
   "outputs": [
    {
     "data": {
      "text/plain": [
       "13    15\n",
       "11    13\n",
       "17    12\n",
       "5     11\n",
       "16    11\n",
       "14    11\n",
       "9     11\n",
       "8     11\n",
       "10    10\n",
       "0      9\n",
       "6      9\n",
       "15     9\n",
       "12     9\n",
       "1      8\n",
       "4      8\n",
       "19     6\n",
       "7      5\n",
       "21     5\n",
       "18     5\n",
       "2      4\n",
       "3      4\n",
       "23     3\n",
       "25     2\n",
       "22     2\n",
       "20     2\n",
       "24     1\n",
       "Name: cigs, dtype: int64"
      ]
     },
     "execution_count": 12,
     "metadata": {},
     "output_type": "execute_result"
    }
   ],
   "source": [
    "#checking value counts to determine if trend is reliable with large enough sample in each category\n",
    "\n",
    "birth['cigs'].value_counts()"
   ]
  },
  {
   "cell_type": "markdown",
   "id": "4411bde2",
   "metadata": {},
   "source": [
    "Considering the value counts of all observations per sub-category and only referring to the ones with significant number of observations, the following trends are recognized:\n",
    "\n",
    "Mother's Education:        increases (positively correlated) from 11 - 13 then dips down a bit and flattens. \n",
    "\n",
    "Month Prenatal care began: uneven sampling throughout sub-categories making it hard to establish trend. Beginning care\n",
    "                           in month 1 and 2 however is much better than 3. \n",
    "                           \n",
    "Number of Prenatal visits: can only consider the rage between 8 and 15 visits that have 9 or more observations. Within this                            range we see that having more than 10 visits ends up in higher birth weight for baby. \n",
    "\n",
    "Father's Education:        increases (positively correlated) from 11 - 13 then dips down a bit and flattens.\n",
    "\n",
    "Drinks: negative correlation\n",
    "\n",
    "Cigarettes: negative correlation"
   ]
  },
  {
   "cell_type": "code",
   "execution_count": 14,
   "id": "90859f78",
   "metadata": {},
   "outputs": [
    {
     "name": "stdout",
     "output_type": "stream",
     "text": [
      "\n",
      "            Yes\t\tNo\n",
      "            ---------------------\n",
      "is_male  |108\t\t88\n",
      "is_mwhte |53\t\t143\n",
      "is_mblck |75\t\t121\n",
      "is_moth  |68\t\t128\n",
      "is_fwhte |68\t\t128\n",
      "is_fblck |67\t\t129\n",
      "is_foth  |61\t\t135\n",
      "\n"
     ]
    }
   ],
   "source": [
    "#counting the number of observations in each subcategory of the categorical data\n",
    "is_male = len(birth['male'][birth['male'] == 1])\n",
    "is_mwhte = len(birth['mwhte'][birth['mwhte'] == 1])\n",
    "is_mblck = len(birth['mblck'][birth['mblck'] == 1])\n",
    "is_moth = len(birth['moth'][birth['moth'] == 1])\n",
    "is_fwhte = len(birth['fwhte'][birth['fwhte'] == 1])\n",
    "is_fblck = len(birth['fblck'][birth['fblck'] == 1])\n",
    "is_foth = len(birth['foth'][birth['foth'] == 1])\n",
    "\n",
    "\n",
    "#printing results\n",
    "print(f\"\"\"\n",
    "            Yes\\t\\tNo\n",
    "            ---------------------\n",
    "is_male  |{is_male}\\t\\t{len(birth) - is_male}\n",
    "is_mwhte |{is_mwhte}\\t\\t{len(birth) - is_mwhte}\n",
    "is_mblck |{is_mblck}\\t\\t{len(birth) - is_mblck}\n",
    "is_moth  |{is_moth}\\t\\t{len(birth) - is_moth}\n",
    "is_fwhte |{is_fwhte}\\t\\t{len(birth) - is_fwhte}\n",
    "is_fblck |{is_fblck}\\t\\t{len(birth) - is_fblck}\n",
    "is_foth  |{is_foth}\\t\\t{len(birth) - is_foth}\n",
    "\"\"\")"
   ]
  },
  {
   "cell_type": "markdown",
   "id": "72aa034c",
   "metadata": {},
   "source": [
    "Since the subcategories within the columns are not large enough for testing and training as they are (both 'Yes' and 'No' would need to be 100 observations), the features will need to be grouped or disregarded.\n",
    "\n",
    "After analysing multiple variables independently and together in boxplots and correlations, the correlations of black parents as well as education level of parents are higher than other variables. This aligns with what was found in research. In the past years the US low birth rate was highest for black infants. Aditionally mothers who have fewer than 8 years of education are also more likely to give birth to low birthweight babies. This aligns with what was seen in our boxplot of the variable. \n",
    "These findings lead to the decision to group these two variables together."
   ]
  },
  {
   "cell_type": "code",
   "execution_count": 15,
   "id": "c2810bfa",
   "metadata": {},
   "outputs": [],
   "source": [
    "#creating new variables grouping mothers and fathers of same race together\n",
    "birth['pblck'] = birth['fblck'] * birth['mblck']\n",
    "birth['pwhte'] = birth['fwhte'] * birth['mwhte']\n",
    "birth['poth'] = birth['foth'] * birth['moth']"
   ]
  },
  {
   "cell_type": "code",
   "execution_count": 16,
   "id": "b3cb36ef",
   "metadata": {},
   "outputs": [],
   "source": [
    "birth['peduc'] = birth['feduc'] * birth['meduc']"
   ]
  },
  {
   "cell_type": "code",
   "execution_count": 17,
   "id": "1efaa28e",
   "metadata": {},
   "outputs": [],
   "source": [
    "#creating a new variable grouping mage and fage together\n",
    "birth['page'] = birth['mage'] * birth['fage']"
   ]
  },
  {
   "cell_type": "code",
   "execution_count": 18,
   "id": "a0e5475f",
   "metadata": {},
   "outputs": [],
   "source": [
    "birth['page_peduc'] = birth['page']*birth['peduc']"
   ]
  },
  {
   "cell_type": "code",
   "execution_count": 19,
   "id": "fd44967e",
   "metadata": {},
   "outputs": [],
   "source": [
    "#making a new variable to combine drinks and cigs by first converting drinks per week to per day. \n",
    "birth['drink_day'] = round(birth['drink'] / 7, 1)\n",
    "birth['drink_smoke'] = round(birth['drink_day'] * birth['cigs'], 0)"
   ]
  },
  {
   "cell_type": "code",
   "execution_count": 20,
   "id": "e74f35df",
   "metadata": {},
   "outputs": [],
   "source": [
    "birth['drink_smoke_meduc'] = birth['meduc']*birth['drink_smoke']"
   ]
  },
  {
   "cell_type": "code",
   "execution_count": 21,
   "id": "73fec084",
   "metadata": {},
   "outputs": [
    {
     "name": "stdout",
     "output_type": "stream",
     "text": [
      "0    104\n",
      "1     92\n",
      "Name: has_higher_mage, dtype: int64\n",
      "0    108\n",
      "1     88\n",
      "Name: has_higher_fage, dtype: int64\n"
     ]
    }
   ],
   "source": [
    "#creating new dummy variable for higher mothers age\n",
    "birth['has_higher_mage'] = 0\n",
    "\n",
    "for index, val in birth.iterrows():\n",
    "    if birth.loc[index, 'mage'] > birth['mage'].median():\n",
    "        birth.loc[index, 'has_higher_mage'] = 1\n",
    "\n",
    "print (birth['has_higher_mage'].value_counts())\n",
    "\n",
    "#creating new dummy variable for higher fathers age\n",
    "birth['has_higher_fage'] = 0\n",
    "\n",
    "for index, val in birth.iterrows():\n",
    "    if birth.loc[index, 'fage'] > birth['fage'].median():\n",
    "        birth.loc[index, 'has_higher_fage'] = 1\n",
    "\n",
    "print (birth['has_higher_fage'].value_counts())"
   ]
  },
  {
   "cell_type": "code",
   "execution_count": 22,
   "id": "ab70dcba",
   "metadata": {},
   "outputs": [],
   "source": [
    "# defining a function for categorical boxplots\n",
    "def categorical_boxplots(response, cat_var, data):\n",
    "    \"\"\"\n",
    "\tThis function is designed to generate a boxplot for  can be used for categorical variables.\n",
    "    Make sure matplotlib.pyplot and seaborn have been imported (as plt and sns).\n",
    "\n",
    "    PARAMETERS\n",
    "\t----------\n",
    "\tresponse : str, response variable\n",
    "\tcat_var  : str, categorical variable\n",
    "\tdata     : DataFrame of the response and categorical variables\n",
    "\t\"\"\"\n",
    "\n",
    "    fig, ax = plt.subplots(figsize = (7, 5))\n",
    "    \n",
    "    sns.boxplot(x    = cat_var,\n",
    "                y    = response,\n",
    "                data = data)\n",
    "    \n",
    "    plt.suptitle(\"\")\n",
    "    plt.show()"
   ]
  },
  {
   "cell_type": "code",
   "execution_count": 23,
   "id": "c5ed6b5f",
   "metadata": {},
   "outputs": [
    {
     "data": {
      "image/png": "[encoded data removed]",
      "text/plain": [
       "<Figure size 504x360 with 1 Axes>"
      ]
     },
     "metadata": {
      "needs_background": "light"
     },
     "output_type": "display_data"
    },
    {
     "data": {
      "image/png": "[encoded data removed]",
      "text/plain": [
       "<Figure size 504x360 with 1 Axes>"
      ]
     },
     "metadata": {
      "needs_background": "light"
     },
     "output_type": "display_data"
    },
    {
     "data": {
      "image/png": "[encoded data removed]",
      "text/plain": [
       "<Figure size 504x360 with 1 Axes>"
      ]
     },
     "metadata": {
      "needs_background": "light"
     },
     "output_type": "display_data"
    },
    {
     "data": {
      "image/png": "[encoded data removed]",
      "text/plain": [
       "<Figure size 504x360 with 1 Axes>"
      ]
     },
     "metadata": {
      "needs_background": "light"
     },
     "output_type": "display_data"
    },
    {
     "data": {
      "image/png": "[encoded data removed]",
      "text/plain": [
       "<Figure size 504x360 with 1 Axes>"
      ]
     },
     "metadata": {
      "needs_background": "light"
     },
     "output_type": "display_data"
    },
    {
     "data": {
      "image/png": "[encoded data removed]",
      "text/plain": [
       "<Figure size 504x360 with 1 Axes>"
      ]
     },
     "metadata": {
      "needs_background": "light"
     },
     "output_type": "display_data"
    },
    {
     "data": {
      "image/png": "[encoded data removed]",
      "text/plain": [
       "<Figure size 504x360 with 1 Axes>"
      ]
     },
     "metadata": {
      "needs_background": "light"
     },
     "output_type": "display_data"
    },
    {
     "data": {
      "image/png": "[encoded data removed]",
      "text/plain": [
       "<Figure size 504x360 with 1 Axes>"
      ]
     },
     "metadata": {
      "needs_background": "light"
     },
     "output_type": "display_data"
    }
   ],
   "source": [
    "#calling fuction for all categorical variables\n",
    "categorical_boxplots(response = 'bwght',\n",
    "                    cat_var = 'male',\n",
    "                    data = birth)\n",
    "\n",
    "categorical_boxplots(response = 'bwght',\n",
    "                    cat_var = 'mwhte',\n",
    "                    data = birth)\n",
    "\n",
    "categorical_boxplots(response = 'bwght',\n",
    "                    cat_var = 'mblck',\n",
    "                    data = birth)\n",
    "\n",
    "categorical_boxplots(response = 'bwght',\n",
    "                    cat_var = 'moth',\n",
    "                    data = birth)\n",
    "\n",
    "categorical_boxplots(response = 'bwght',\n",
    "                    cat_var = 'fwhte',\n",
    "                    data = birth)\n",
    "\n",
    "categorical_boxplots(response = 'bwght',\n",
    "                    cat_var = 'fblck',\n",
    "                    data = birth)\n",
    "\n",
    "categorical_boxplots(response = 'bwght',\n",
    "                    cat_var = 'fwhte',\n",
    "                    data = birth)\n",
    "\n",
    "categorical_boxplots(response = 'bwght',\n",
    "                    cat_var = 'foth',\n",
    "                    data = birth)\n"
   ]
  },
  {
   "cell_type": "code",
   "execution_count": 25,
   "id": "94b28afd",
   "metadata": {},
   "outputs": [],
   "source": [
    "#making a new variable combining pre natal care\n",
    "\n",
    "birth['monpre_mage'] = birth['monpre'] * birth['mage']"
   ]
  },
  {
   "cell_type": "code",
   "execution_count": 26,
   "id": "2682f0dd",
   "metadata": {},
   "outputs": [
    {
     "name": "stdout",
     "output_type": "stream",
     "text": [
      "\n",
      "                 No\t\tYes\n",
      "               ---------------------\n",
      "Drink          | 11\t\t185\n",
      "Cigarettes     | 9\t\t187\n",
      "Drink_Smoke    | 25\t\t171\n",
      "\n"
     ]
    }
   ],
   "source": [
    "#counting number of zeros for drink, cigs and drink_smoke\n",
    "drink_day_zeroes = len(birth['drink_day'][birth['drink_day'] == 0])\n",
    "cigs_zeroes = len(birth['cigs'][birth['cigs'] == 0])\n",
    "drink_smoke_zeroes = len(birth['drink_smoke'][birth['drink_smoke'] == 0])\n",
    "\n",
    "print(f\"\"\"\n",
    "                 No\\t\\tYes\n",
    "               ---------------------\n",
    "Drink          | {drink_day_zeroes}\\t\\t{len(birth) - drink_day_zeroes}\n",
    "Cigarettes     | {cigs_zeroes}\\t\\t{len(birth) - cigs_zeroes}\n",
    "Drink_Smoke    | {drink_smoke_zeroes}\\t\\t{len(birth) - drink_smoke_zeroes}\n",
    "\"\"\")"
   ]
  },
  {
   "cell_type": "markdown",
   "id": "b7fcf1e7",
   "metadata": {},
   "source": [
    "There are not enough observations with zero to engineer flag features for these variables. Therefor they will be kept in the regression as is. "
   ]
  },
  {
   "cell_type": "code",
   "execution_count": 30,
   "id": "4e183faf",
   "metadata": {},
   "outputs": [
    {
     "data": {
      "image/png": "[encoded data removed]",
      "text/plain": [
       "<Figure size 504x360 with 1 Axes>"
      ]
     },
     "metadata": {
      "needs_background": "light"
     },
     "output_type": "display_data"
    },
    {
     "data": {
      "image/png": "[encoded data removed]",
      "text/plain": [
       "<Figure size 504x360 with 1 Axes>"
      ]
     },
     "metadata": {
      "needs_background": "light"
     },
     "output_type": "display_data"
    }
   ],
   "source": [
    "#calling boxplot function for newly engineered features\n",
    "categorical_boxplots(response = 'bwght',\n",
    "                    cat_var = 'pblck',\n",
    "                    data = birth)\n",
    "\n",
    "categorical_boxplots(response = 'bwght',\n",
    "                    cat_var = 'has_higher_mage',\n",
    "                    data = birth)\n"
   ]
  },
  {
   "cell_type": "code",
   "execution_count": 31,
   "id": "8bfb4abe",
   "metadata": {},
   "outputs": [
    {
     "data": {
      "text/plain": [
       "Text(0, 0.5, 'Birthweight')"
      ]
     },
     "execution_count": 31,
     "metadata": {},
     "output_type": "execute_result"
    },
    {
     "data": {
      "image/png": "[encoded data removed]",
      "text/plain": [
       "<Figure size 720x576 with 1 Axes>"
      ]
     },
     "metadata": {
      "needs_background": "light"
     },
     "output_type": "display_data"
    },
    {
     "data": {
      "image/png": "[encoded data removed]",
      "text/plain": [
       "<Figure size 720x576 with 1 Axes>"
      ]
     },
     "metadata": {
      "needs_background": "light"
     },
     "output_type": "display_data"
    },
    {
     "data": {
      "image/png": "[encoded data removed]",
      "text/plain": [
       "<Figure size 720x576 with 1 Axes>"
      ]
     },
     "metadata": {
      "needs_background": "light"
     },
     "output_type": "display_data"
    }
   ],
   "source": [
    "#scatterplot for newly engineered features\n",
    "\n",
    "fig,ax = plt.subplots(figsize = (10,8))\n",
    "plt.subplot(2,2,1)\n",
    "sns.scatterplot (x= birth['peduc'],\n",
    "                y = birth['bwght'],\n",
    "                color = 'g')\n",
    "\n",
    "plt.xlabel(xlabel = \"Parents Education\")\n",
    "plt.ylabel(ylabel = 'Birthweight')\n",
    "\n",
    "fig,ax = plt.subplots(figsize = (10,8))\n",
    "plt.subplot(2,2,1)\n",
    "sns.scatterplot (x= birth['monpre_mage'],\n",
    "                y = birth['bwght'],\n",
    "                color = 'g')\n",
    "\n",
    "plt.xlabel(xlabel = \"Month Prenatal * Mother's Age\")\n",
    "plt.ylabel(ylabel = 'Birthweight')\n",
    "\n",
    "\n",
    "\n",
    "fig,ax = plt.subplots(figsize = (10,8))\n",
    "plt.subplot(2,2,1)\n",
    "sns.scatterplot (x= birth['drink_smoke'],\n",
    "                y = birth['bwght'],\n",
    "                color = 'g')\n",
    "\n",
    "plt.xlabel(xlabel = \"Drink and Smoke\")\n",
    "plt.ylabel(ylabel = 'Birthweight')"
   ]
  },
  {
   "cell_type": "code",
   "execution_count": 32,
   "id": "23fdaa52",
   "metadata": {},
   "outputs": [
    {
     "data": {
      "text/plain": [
       "drink_smoke         -0.800\n",
       "drink_smoke_meduc   -0.760\n",
       "drink_day           -0.748\n",
       "drink               -0.743\n",
       "cigs                -0.572\n",
       "page                -0.505\n",
       "mage                -0.464\n",
       "fage                -0.396\n",
       "has_higher_fage     -0.344\n",
       "page_peduc          -0.335\n",
       "has_higher_mage     -0.274\n",
       "monpre_mage         -0.252\n",
       "poth                -0.122\n",
       "pwhte               -0.114\n",
       "mwhte               -0.114\n",
       "foth                -0.078\n",
       "monpre              -0.052\n",
       "fwhte               -0.041\n",
       "moth                -0.022\n",
       "npvis                0.062\n",
       "meduc                0.094\n",
       "pblck                0.114\n",
       "male                 0.115\n",
       "peduc                0.116\n",
       "fblck                0.118\n",
       "mblck                0.126\n",
       "feduc                0.131\n",
       "omaps                0.250\n",
       "fmaps                0.252\n",
       "log_bwght            0.969\n",
       "bwght                1.000\n",
       "Name: bwght, dtype: float64"
      ]
     },
     "execution_count": 32,
     "metadata": {},
     "output_type": "execute_result"
    }
   ],
   "source": [
    "birth_corr = birth.corr(method = \"pearson\")\n",
    "\n",
    "birth_corr[\"bwght\"].round(3).sort_values(ascending = True)"
   ]
  },
  {
   "cell_type": "code",
   "execution_count": 34,
   "id": "fdd7bffe",
   "metadata": {},
   "outputs": [
    {
     "name": "stdout",
     "output_type": "stream",
     "text": [
      "mage +\n",
      "meduc +\n",
      "monpre +\n",
      "npvis +\n",
      "fage +\n",
      "feduc +\n",
      "cigs +\n",
      "drink +\n",
      "male +\n",
      "mwhte +\n",
      "mblck +\n",
      "moth +\n",
      "fwhte +\n",
      "fblck +\n",
      "foth +\n",
      "pblck +\n",
      "pwhte +\n",
      "poth +\n",
      "peduc +\n",
      "page +\n",
      "page_peduc +\n",
      "drink_day +\n",
      "drink_smoke +\n",
      "drink_smoke_meduc +\n",
      "has_higher_mage +\n",
      "has_higher_fage +\n",
      "monpre_mage +\n"
     ]
    }
   ],
   "source": [
    "#dropping y-variables and variables that are not significant for the regression problem\n",
    "birth_explanatory = birth.copy()\n",
    "\n",
    "birth_explanatory = birth_explanatory.drop(['bwght', \n",
    "                                           'log_bwght',\n",
    "                                           'omaps',\n",
    "                                           'fmaps'],\n",
    "                                          axis = 1)\n",
    "\n",
    "for val in birth_explanatory:\n",
    "    print(f\"{val} +\")\n",
    "    "
   ]
  },
  {
   "cell_type": "code",
   "execution_count": 40,
   "id": "421b3bd3",
   "metadata": {},
   "outputs": [
    {
     "name": "stdout",
     "output_type": "stream",
     "text": [
      "                            OLS Regression Results                            \n",
      "==============================================================================\n",
      "Dep. Variable:                  bwght   R-squared:                       0.739\n",
      "Model:                            OLS   Adj. R-squared:                  0.729\n",
      "Method:                 Least Squares   F-statistic:                     75.87\n",
      "Date:                Wed, 24 Nov 2021   Prob (F-statistic):           2.18e-51\n",
      "Time:                        15:01:43   Log-Likelihood:                -1414.6\n",
      "No. Observations:                 196   AIC:                             2845.\n",
      "Df Residuals:                     188   BIC:                             2871.\n",
      "Df Model:                           7                                         \n",
      "Covariance Type:            nonrobust                                         \n",
      "=====================================================================================\n",
      "                        coef    std err          t      P>|t|      [0.025      0.975]\n",
      "-------------------------------------------------------------------------------------\n",
      "Intercept          3271.9889    500.489      6.538      0.000    2284.694    4259.284\n",
      "mage                 24.2285     11.098      2.183      0.030       2.335      46.122\n",
      "fage                 31.4559     12.247      2.568      0.011       7.297      55.615\n",
      "cigs                -20.3495      8.308     -2.449      0.015     -36.738      -3.961\n",
      "page                 -0.8021      0.255     -3.148      0.002      -1.305      -0.300\n",
      "drink_day          -537.8489    119.882     -4.486      0.000    -774.336    -301.362\n",
      "drink_smoke         -51.2846     16.369     -3.133      0.002     -83.575     -18.994\n",
      "drink_smoke_meduc     2.1435      1.016      2.110      0.036       0.140       4.147\n",
      "==============================================================================\n",
      "Omnibus:                        3.530   Durbin-Watson:                   1.246\n",
      "Prob(Omnibus):                  0.171   Jarque-Bera (JB):                3.737\n",
      "Skew:                           0.132   Prob(JB):                        0.154\n",
      "Kurtosis:                       3.623   Cond. No.                     3.76e+04\n",
      "==============================================================================\n",
      "\n",
      "Notes:\n",
      "[1] Standard Errors assume that the covariance matrix of the errors is correctly specified.\n",
      "[2] The condition number is large, 3.76e+04. This might indicate that there are\n",
      "strong multicollinearity or other numerical problems.\n"
     ]
    }
   ],
   "source": [
    "lm_practice = smf.ols(formula = \"\"\"  bwght ~\n",
    "mage +\n",
    "fage +\n",
    "cigs +\n",
    "page +\n",
    "drink_day +\n",
    "drink_smoke +\n",
    "drink_smoke_meduc \"\"\",\n",
    "                    data = birth)\n",
    "\n",
    "results = lm_practice.fit()\n",
    "\n",
    "print(results.summary())"
   ]
  },
  {
   "cell_type": "markdown",
   "id": "5abf9d1b",
   "metadata": {},
   "source": [
    "Ran a full OLS model with all variables and diminished variables with p-values above 0.05 until coming to the result above. Best model has an R^2 of 73 and only considered parents ages, drinking and smoking as significant to birth weight."
   ]
  },
  {
   "cell_type": "code",
   "execution_count": 41,
   "id": "cc178515",
   "metadata": {},
   "outputs": [
    {
     "name": "stdout",
     "output_type": "stream",
     "text": [
      "\n",
      "Training data : (147, 27), (147,)\n",
      "Testing data  : (49, 27), (49,)\n",
      "\n"
     ]
    }
   ],
   "source": [
    "#importing libraries for linear regression and train/test split\n",
    "import statsmodels.formula.api as smf  \n",
    "from sklearn.model_selection import train_test_split \n",
    "from sklearn.linear_model import LinearRegression \n",
    "\n",
    "#preparing response variable\n",
    "birth_target = birth.loc[ :, 'bwght']\n",
    "\n",
    "#preparing testing and training sets\n",
    "x_train, x_test, y_train, y_test = train_test_split(birth_explanatory,\n",
    "                                                   birth_target,\n",
    "                                                   test_size = 0.25,\n",
    "                                                   random_state = 219)\n",
    "\n",
    "#checking shape of the data sets\n",
    "\n",
    "print(f\"\"\"\n",
    "Training data : {x_train.shape}, {y_train.shape}\n",
    "Testing data  : {x_test.shape}, {y_test.shape}\n",
    "\"\"\")\n"
   ]
  },
  {
   "cell_type": "code",
   "execution_count": 47,
   "id": "a8c689c2",
   "metadata": {},
   "outputs": [
    {
     "name": "stdout",
     "output_type": "stream",
     "text": [
      "                            OLS Regression Results                            \n",
      "==============================================================================\n",
      "Dep. Variable:                  bwght   R-squared:                       0.728\n",
      "Model:                            OLS   Adj. R-squared:                  0.720\n",
      "Method:                 Least Squares   F-statistic:                     94.85\n",
      "Date:                Wed, 24 Nov 2021   Prob (F-statistic):           4.13e-39\n",
      "Time:                        15:04:30   Log-Likelihood:                -1069.1\n",
      "No. Observations:                 147   AIC:                             2148.\n",
      "Df Residuals:                     142   BIC:                             2163.\n",
      "Df Model:                           4                                         \n",
      "Covariance Type:            nonrobust                                         \n",
      "===============================================================================\n",
      "                  coef    std err          t      P>|t|      [0.025      0.975]\n",
      "-------------------------------------------------------------------------------\n",
      "Intercept    4481.2151    120.559     37.170      0.000    4242.893    4719.537\n",
      "cigs          -14.1801      9.497     -1.493      0.138     -32.954       4.594\n",
      "page           -0.2235      0.041     -5.513      0.000      -0.304      -0.143\n",
      "drink_day    -436.3544    141.483     -3.084      0.002    -716.040    -156.669\n",
      "drink_smoke   -28.7638     10.481     -2.744      0.007     -49.483      -8.045\n",
      "==============================================================================\n",
      "Omnibus:                        7.486   Durbin-Watson:                   1.909\n",
      "Prob(Omnibus):                  0.024   Jarque-Bera (JB):               10.557\n",
      "Skew:                           0.259   Prob(JB):                      0.00510\n",
      "Kurtosis:                       4.206   Cond. No.                     1.09e+04\n",
      "==============================================================================\n",
      "\n",
      "Notes:\n",
      "[1] Standard Errors assume that the covariance matrix of the errors is correctly specified.\n",
      "[2] The condition number is large, 1.09e+04. This might indicate that there are\n",
      "strong multicollinearity or other numerical problems.\n"
     ]
    }
   ],
   "source": [
    "#OLS Regression\n",
    "#merging x_train and y_train \n",
    "birth_train = pd.concat([x_train, y_train], axis = 1)\n",
    "\n",
    "#building model\n",
    "lm_best = smf.ols(formula = \"\"\"bwght ~ mage +\n",
    "                            fage +\n",
    "                            cigs +\n",
    "                            page +\n",
    "                            drink_day +\n",
    "                            drink_smoke \"\"\",\n",
    "                          data = birth_train)\n",
    "\n",
    "#fitting the model\n",
    "results = lm_best.fit()\n",
    "\n",
    "#analysing summary output\n",
    "print(results.summary())\n",
    "                 \n",
    "\n",
    "\n",
    "\n"
   ]
  },
  {
   "cell_type": "code",
   "execution_count": 60,
   "id": "0ecfa2ec",
   "metadata": {},
   "outputs": [
    {
     "name": "stdout",
     "output_type": "stream",
     "text": [
      "OLS Training Score : 0.7428\n",
      "OLS Testing Score  : 0.6575\n",
      "OLS Train-Test Gap : 0.0853\n"
     ]
    }
   ],
   "source": [
    "x_variables = ['mage', 'fage', 'page', 'cigs', 'drink_day', 'drink_smoke']\n",
    "\n",
    "#preparing x-variables for OLS\n",
    "ols_data = birth.loc[:, x_variables]\n",
    "\n",
    "#preparing separate test set for OLS\n",
    "x_train_OLS, x_test_OLS, y_train_OLS, y_test_OLS = train_test_split(ols_data,\n",
    "                                                                   birth_target,\n",
    "                                                                   test_size = 0.25,\n",
    "                                                                   random_state = 219)\n",
    "# INSTANTIATING a model object\n",
    "lr = LinearRegression()\n",
    "\n",
    "# FITTING to the training data\n",
    "lr_fit = lr.fit(x_train_OLS, y_train_OLS)\n",
    "\n",
    "# PREDICTING on new data\n",
    "lr_pred = lr_fit.predict(x_test_OLS)\n",
    "\n",
    "# SCORING the results\n",
    "print('OLS Training Score :', lr.score(x_train_OLS, y_train_OLS).round(4)) \n",
    "print('OLS Testing Score  :',  lr.score(x_test_OLS, y_test_OLS).round(4)) \n",
    "\n",
    "lr_train_score =  lr.score(x_train_OLS, y_train_OLS).round(4)\n",
    "lr_test_score = lr.score(x_test_OLS, y_test_OLS).round(4)\n",
    "\n",
    "# displaying and saving the gap between training and testing\n",
    "print('OLS Train-Test Gap :', abs(lr_train_score - lr_test_score).round(4))\n",
    "lr_test_gap = abs(lr_train_score - lr_test_score).round(4)"
   ]
  },
  {
   "cell_type": "markdown",
   "id": "df4e5c11",
   "metadata": {},
   "source": [
    "The gap between training and testing is too large. This model is no good. "
   ]
  },
  {
   "cell_type": "code",
   "execution_count": 50,
   "id": "68994013",
   "metadata": {},
   "outputs": [
    {
     "name": "stdout",
     "output_type": "stream",
     "text": [
      "Lasso Training Score: 0.7473\n",
      "Lasso Testing Score: 0.6151\n",
      "Lasso Train-Test Gap : 0.1322\n"
     ]
    }
   ],
   "source": [
    "import sklearn.linear_model\n",
    "\n",
    "#instantiating\n",
    "lasso_model = sklearn.linear_model.Lasso(alpha = 1.0, normalize = True)\n",
    "\n",
    "#fitting and predicting\n",
    "lasso_fit = lasso_model.fit(x_train, y_train)\n",
    "lasso_pred = lasso_fit.predict(x_test)\n",
    "\n",
    "#scoring results\n",
    "print('Lasso Training Score:', lasso_model.score(x_train,y_train).round(4))\n",
    "print('Lasso Testing Score:', lasso_model.score(x_test,y_test).round(4))\n",
    "\n",
    "#saving scoring data \n",
    "lasso_train_score = lasso_model.score(x_train, y_train).round(4)\n",
    "lasso_test_score = lasso_model.score(x_test, y_test).round(4)\n",
    "\n",
    "#displaying and saving gap\n",
    "print('Lasso Train-Test Gap :', abs(lasso_train_score - lasso_test_score).round(4))\n",
    "lasso_test_gap = abs(lasso_train_score - lasso_test_score).round(4)\n"
   ]
  },
  {
   "cell_type": "code",
   "execution_count": 51,
   "id": "840efb19",
   "metadata": {},
   "outputs": [
    {
     "name": "stdout",
     "output_type": "stream",
     "text": [
      "('intercept', 4094.12)\n",
      "('mage', -5.88)\n",
      "('meduc', 14.91)\n",
      "('monpre', 0.0)\n",
      "('npvis', 0.0)\n",
      "('fage', 0.0)\n",
      "('feduc', 16.62)\n",
      "('cigs', -13.11)\n",
      "('drink', -52.32)\n",
      "('male', 59.5)\n",
      "('mwhte', 0.0)\n",
      "('mblck', 0.0)\n",
      "('moth', -54.41)\n",
      "('fwhte', 0.0)\n",
      "('fblck', -0.0)\n",
      "('foth', -0.0)\n",
      "('pblck', -0.0)\n",
      "('pwhte', 2.53)\n",
      "('poth', -12.41)\n",
      "('peduc', 0.0)\n",
      "('page', -0.15)\n",
      "('page_peduc', 0.0)\n",
      "('drink_day', -0.0)\n",
      "('drink_smoke', -30.29)\n",
      "('drink_smoke_meduc', -0.0)\n",
      "('has_higher_mage', 24.41)\n",
      "('has_higher_fage', 14.41)\n",
      "('monpre_mage', -0.0)\n"
     ]
    }
   ],
   "source": [
    "# zipping each feature name to its coefficient\n",
    "lasso_model_values = zip(birth_explanatory.columns, lasso_fit.coef_.round(decimals = 2))\n",
    "\n",
    "\n",
    "# setting up a placeholder list to store model features\n",
    "lasso_model_lst = [('intercept', lasso_fit.intercept_.round(decimals = 2))]\n",
    "\n",
    "\n",
    "# printing out each feature-coefficient pair one by one\n",
    "for val in lasso_model_values:\n",
    "    lasso_model_lst.append(val)\n",
    "    \n",
    "\n",
    "# checking the results\n",
    "for pair in lasso_model_lst:\n",
    "    print(pair)"
   ]
  },
  {
   "cell_type": "code",
   "execution_count": 52,
   "id": "1318a850",
   "metadata": {},
   "outputs": [
    {
     "name": "stdout",
     "output_type": "stream",
     "text": [
      "('intercept', 4094.12)\n",
      "('mage', -5.88)\n",
      "('meduc', 14.91)\n",
      "('npvis', 0.0)\n",
      "('feduc', 16.62)\n",
      "('cigs', -13.11)\n",
      "('drink', -52.32)\n",
      "('male', 59.5)\n",
      "('mblck', 0.0)\n",
      "('moth', -54.41)\n",
      "('fblck', -0.0)\n",
      "('pblck', -0.0)\n",
      "('pwhte', 2.53)\n",
      "('poth', -12.41)\n",
      "('page', -0.15)\n",
      "('drink_day', -0.0)\n",
      "('drink_smoke', -30.29)\n",
      "('has_higher_mage', 24.41)\n",
      "('has_higher_fage', 14.41)\n"
     ]
    }
   ],
   "source": [
    "# dropping coefficients that are equal to zero\n",
    "\n",
    "# printing out each feature-coefficient pair one by one\n",
    "for feature, coefficient in lasso_model_lst:\n",
    "        \n",
    "        if coefficient == 0:\n",
    "            lasso_model_lst.remove((feature, coefficient))\n",
    "\n",
    "            \n",
    "# checking the results\n",
    "for pair in lasso_model_lst:\n",
    "    print(pair)"
   ]
  },
  {
   "cell_type": "code",
   "execution_count": 53,
   "id": "dfb70692",
   "metadata": {},
   "outputs": [
    {
     "name": "stdout",
     "output_type": "stream",
     "text": [
      "Training Score: 0.7499\n",
      "Testing Score : 0.6204\n",
      "ARD Train-Test Gap : 0.1295\n"
     ]
    }
   ],
   "source": [
    "# instantiating ard model\n",
    "ard_model = sklearn.linear_model.ARDRegression()\n",
    "\n",
    "\n",
    "# FITTING the training data\n",
    "ard_fit = ard_model.fit(x_train, y_train)\n",
    "\n",
    "\n",
    "# PREDICTING on new data\n",
    "ard_pred = ard_fit.predict(x_test)\n",
    "\n",
    "\n",
    "print('Training Score:', ard_model.score(x_train, y_train).round(4))\n",
    "print('Testing Score :',  ard_model.score(x_test,y_test).round(4))\n",
    "\n",
    "\n",
    "# saving scoring data for future use\n",
    "ard_train_score = ard_model.score(x_train, y_train).round(4)\n",
    "ard_test_score  = ard_model.score(x_test,y_test).round(4)\n",
    "\n",
    "\n",
    "# displaying and saving the gap between training and testing\n",
    "print('ARD Train-Test Gap :', abs(ard_train_score - ard_test_score).round(4))\n",
    "ard_test_gap = abs(ard_train_score - ard_test_score).round(4)"
   ]
  },
  {
   "cell_type": "code",
   "execution_count": 57,
   "id": "1fe52f72",
   "metadata": {},
   "outputs": [
    {
     "name": "stdout",
     "output_type": "stream",
     "text": [
      "('intercept', 4011.71)\n",
      "('mage', -0.00022)\n",
      "('meduc', 0.00132)\n",
      "('monpre', 0.00066)\n",
      "('npvis', 0.00017)\n",
      "('fage', 9.70765)\n",
      "('feduc', 0.00315)\n",
      "('cigs', -13.29403)\n",
      "('drink', -51.33939)\n",
      "('male', 44.6477)\n",
      "('mwhte', 0.00098)\n",
      "('mblck', 0.00014)\n",
      "('moth', -49.78508)\n",
      "('fwhte', 0.00029)\n",
      "('fblck', -1e-05)\n",
      "('foth', -0.00037)\n",
      "('pblck', -0.00019)\n",
      "('pwhte', 0.00098)\n",
      "('poth', -0.0023)\n",
      "('peduc', 1.03544)\n",
      "('page', -0.33225)\n",
      "('page_peduc', 0.0)\n",
      "('drink_day', -0.00139)\n",
      "('drink_smoke', -31.19121)\n",
      "('drink_smoke_meduc', 0.0013)\n",
      "('has_higher_mage', 33.11118)\n",
      "('has_higher_fage', 0.00108)\n",
      "('monpre_mage', 0.00018)\n"
     ]
    }
   ],
   "source": [
    "# zipping each feature name to its coefficient\n",
    "ard_model_values = zip(birth_explanatory.columns, ard_fit.coef_.round(decimals = 5))\n",
    "\n",
    "\n",
    "# setting up a placeholder list to store model features\n",
    "ard_model_lst = [('intercept', ard_fit.intercept_.round(decimals = 2))]\n",
    "\n",
    "\n",
    "# printing out each feature-coefficient pair one by one\n",
    "for val in ard_model_values:\n",
    "    ard_model_lst.append(val)\n",
    "    \n",
    "\n",
    "# checking the results\n",
    "for pair in ard_model_lst:\n",
    "    print(pair)"
   ]
  },
  {
   "cell_type": "code",
   "execution_count": 58,
   "id": "562b7af8",
   "metadata": {},
   "outputs": [
    {
     "name": "stdout",
     "output_type": "stream",
     "text": [
      "('intercept', 4011.71)\n",
      "('mage', -0.00022)\n",
      "('meduc', 0.00132)\n",
      "('monpre', 0.00066)\n",
      "('npvis', 0.00017)\n",
      "('fage', 9.70765)\n",
      "('feduc', 0.00315)\n",
      "('cigs', -13.29403)\n",
      "('drink', -51.33939)\n",
      "('male', 44.6477)\n",
      "('mwhte', 0.00098)\n",
      "('mblck', 0.00014)\n",
      "('moth', -49.78508)\n",
      "('fwhte', 0.00029)\n",
      "('fblck', -1e-05)\n",
      "('foth', -0.00037)\n",
      "('pblck', -0.00019)\n",
      "('pwhte', 0.00098)\n",
      "('poth', -0.0023)\n",
      "('peduc', 1.03544)\n",
      "('page', -0.33225)\n",
      "('drink_day', -0.00139)\n",
      "('drink_smoke', -31.19121)\n",
      "('drink_smoke_meduc', 0.0013)\n",
      "('has_higher_mage', 33.11118)\n",
      "('has_higher_fage', 0.00108)\n",
      "('monpre_mage', 0.00018)\n"
     ]
    }
   ],
   "source": [
    "# dropping coefficients that are equal to zero\n",
    "\n",
    "# printing out each feature-coefficient pair one by one\n",
    "for feature, coefficient in ard_model_lst:\n",
    "        \n",
    "        if coefficient == 0:\n",
    "            ard_model_lst.remove((feature, coefficient))\n",
    "\n",
    "            \n",
    "# checking the results\n",
    "for pair in ard_model_lst:\n",
    "    print(pair)"
   ]
  },
  {
   "cell_type": "code",
   "execution_count": 59,
   "id": "cdc5f8a9",
   "metadata": {},
   "outputs": [
    {
     "name": "stdout",
     "output_type": "stream",
     "text": [
      "\n",
      "Model      Train Score      Test Score      Train-Test Gap\n",
      "-----      -----------      ----------      --------------\n",
      "*OLS       0.7501           0.6593           0.0908\n",
      "Lasso      0.7473           0.6151           0.1322\n",
      "ARD        0.7499           0.6204           0.1295\n",
      "\n",
      "\n",
      "*this is my final model\n",
      "\n"
     ]
    }
   ],
   "source": [
    "print(f\"\"\"\n",
    "Model      Train Score      Test Score      Train-Test Gap\n",
    "-----      -----------      ----------      --------------\n",
    "*OLS       {lr_train_score}           {lr_test_score}           {lr_test_gap}\n",
    "Lasso      {lasso_train_score}           {lasso_test_score}           {lasso_test_gap}\n",
    "ARD        {ard_train_score}           {ard_test_score}           {ard_test_gap}\n",
    "\n",
    "\n",
    "*this is my final model\n",
    "\"\"\")\n",
    "\n",
    "\n"
   ]
  },
  {
   "cell_type": "code",
   "execution_count": null,
   "id": "ec730184",
   "metadata": {},
   "outputs": [],
   "source": []
  }
 ],
 "metadata": {
  "kernelspec": {
   "display_name": "Python 3 (ipykernel)",
   "language": "python",
   "name": "python3"
  },
  "language_info": {
   "codemirror_mode": {
    "name": "ipython",
    "version": 3
   },
   "file_extension": ".py",
   "mimetype": "text/x-python",
   "name": "python",
   "nbconvert_exporter": "python",
   "pygments_lexer": "ipython3",
   "version": "3.8.8"
  },
  "toc": {
   "base_numbering": 1,
   "nav_menu": {},
   "number_sections": true,
   "sideBar": true,
   "skip_h1_title": false,
   "title_cell": "Table of Contents",
   "title_sidebar": "Contents",
   "toc_cell": false,
   "toc_position": {},
   "toc_section_display": true,
   "toc_window_display": false
  },
  "varInspector": {
   "cols": {
    "lenName": 16,
    "lenType": 16,
    "lenVar": 40
   },
   "kernels_config": {
    "python": {
     "delete_cmd_postfix": "",
     "delete_cmd_prefix": "del ",
     "library": "var_list.py",
     "varRefreshCmd": "print(var_dic_list())"
    },
    "r": {
     "delete_cmd_postfix": ") ",
     "delete_cmd_prefix": "rm(",
     "library": "var_list.r",
     "varRefreshCmd": "cat(var_dic_list()) "
    }
   },
   "types_to_exclude": [
    "module",
    "function",
    "builtin_function_or_method",
    "instance",
    "_Feature"
   ],
   "window_display": false
  }
 },
 "nbformat": 4,
 "nbformat_minor": 5
}
